{
 "cells": [
  {
   "cell_type": "markdown",
   "id": "b0b3b347",
   "metadata": {},
   "source": [
    "# WEB SCRAPPING FOR LAPTOPS AVAILABLE ON FLIPKART."
   ]
  },
  {
   "cell_type": "markdown",
   "id": "cbd61ad9",
   "metadata": {},
   "source": [
    "### Installing bs4"
   ]
  },
  {
   "cell_type": "code",
   "execution_count": 1,
   "id": "7c25a264",
   "metadata": {},
   "outputs": [
    {
     "name": "stdout",
     "output_type": "stream",
     "text": [
      "Collecting bs4\n",
      "  Downloading bs4-0.0.1.tar.gz (1.1 kB)\n",
      "  Preparing metadata (setup.py): started\n",
      "  Preparing metadata (setup.py): finished with status 'done'\n",
      "Requirement already satisfied: beautifulsoup4 in c:\\users\\hi-lenovo\\anaconda3\\lib\\site-packages (from bs4) (4.11.1)\n",
      "Requirement already satisfied: soupsieve>1.2 in c:\\users\\hi-lenovo\\anaconda3\\lib\\site-packages (from beautifulsoup4->bs4) (2.3.1)\n",
      "Building wheels for collected packages: bs4\n",
      "  Building wheel for bs4 (setup.py): started\n",
      "  Building wheel for bs4 (setup.py): finished with status 'done'\n",
      "  Created wheel for bs4: filename=bs4-0.0.1-py3-none-any.whl size=1257 sha256=9e95abb42c4793164f0b0522e660795d3f0667a580ff3208e4aa8862ce4aa5c5\n",
      "  Stored in directory: c:\\users\\hi-lenovo\\appdata\\local\\pip\\cache\\wheels\\73\\2b\\cb\\099980278a0c9a3e57ff1a89875ec07bfa0b6fcbebb9a8cad3\n",
      "Successfully built bs4\n",
      "Installing collected packages: bs4\n",
      "Successfully installed bs4-0.0.1\n",
      "Note: you may need to restart the kernel to use updated packages.\n"
     ]
    }
   ],
   "source": [
    "pip install bs4\n"
   ]
  },
  {
   "cell_type": "markdown",
   "id": "5d841873",
   "metadata": {},
   "source": [
    "## Importing libraries"
   ]
  },
  {
   "cell_type": "code",
   "execution_count": 2,
   "id": "34050068",
   "metadata": {},
   "outputs": [],
   "source": [
    "import urllib.request\n",
    "from bs4 import BeautifulSoup\n",
    "from urllib.request import urlopen"
   ]
  },
  {
   "cell_type": "markdown",
   "id": "cf96ec4d",
   "metadata": {},
   "source": [
    "### Input the URL to be scrapped:\n"
   ]
  },
  {
   "cell_type": "code",
   "execution_count": 3,
   "id": "091b2a9e",
   "metadata": {},
   "outputs": [],
   "source": [
    "url = \"https://www.flipkart.com/search?q=best%20laptops%20under%2080000&otracker=search&otracker1=search&marketplace=FLIPKART&as-show=on&as=off\""
   ]
  },
  {
   "cell_type": "markdown",
   "id": "7a26d6e1",
   "metadata": {},
   "source": [
    "### Use urlopen to open the url and read the details in it."
   ]
  },
  {
   "cell_type": "code",
   "execution_count": 4,
   "id": "72dd0e37",
   "metadata": {},
   "outputs": [],
   "source": [
    "page = urlopen(url)\n",
    "page_html = page.read()\n",
    "page.close()\n",
    "page_soup = BeautifulSoup(page_html, \"html.parser\")"
   ]
  },
  {
   "cell_type": "markdown",
   "id": "4163cd2f",
   "metadata": {},
   "source": [
    "### Checking for all the containers available."
   ]
  },
  {
   "cell_type": "code",
   "execution_count": 5,
   "id": "7dbb1698",
   "metadata": {},
   "outputs": [
    {
     "name": "stdout",
     "output_type": "stream",
     "text": [
      "24\n"
     ]
    }
   ],
   "source": [
    "containers = page_soup.findAll(\"div\", { \"class\": \"_2kHMtA\"})\n",
    "print(len(containers))"
   ]
  },
  {
   "cell_type": "code",
   "execution_count": 6,
   "id": "67cf6038",
   "metadata": {},
   "outputs": [
    {
     "name": "stdout",
     "output_type": "stream",
     "text": [
      "<div class=\"_2kHMtA\">\n",
      " <a class=\"_1fQZEK\" href=\"/hp-victus-core-i5-12th-gen-8-gb-512-gb-ssd-windows-11-home-4-graphics-nvidia-geforce-gtx-1650-144-hz-15-fa0070tx-gaming-laptop/p/itm7faab3efcce20?pid=COMGGKKZHDJBZXJX&amp;lid=LSTCOMGGKKZHDJBZXJXJSQPVS&amp;marketplace=FLIPKART&amp;q=best+laptops+under+80000&amp;store=search.flipkart.com&amp;srno=s_1_4&amp;otracker=search&amp;otracker1=search&amp;fm=organic&amp;iid=d7891541-f04d-4aec-b755-58aec06a27e0.COMGGKKZHDJBZXJX.SEARCH&amp;ppt=None&amp;ppn=None&amp;ssid=1u5bydzcv40000001686192369877&amp;qH=cdff68aec3053e4d\" rel=\"noopener noreferrer\" target=\"_blank\">\n",
      "  <div class=\"MIXNux\">\n",
      "   <div class=\"_2QcLo-\">\n",
      "    <div>\n",
      "     <div class=\"CXW8mj\" style=\"height:200px;width:200px\">\n",
      "      <img alt=\"HP Victus Core i5 12th Gen - (8 GB/512 GB SSD/Windows 11 Home/4 GB Graphics/NVIDIA GeForce GTX 1650/14...\" class=\"_396cs4\" loading=\"eager\" src=\"https://rukminim1.flixcart.com/image/312/312/l5bd5zk0/computer/o/l/w/15-fa0353tx-gaming-laptop-hp-original-imaggytdx6zpv6qg.jpeg?q=70\"/>\n",
      "     </div>\n",
      "    </div>\n",
      "   </div>\n",
      "   <div class=\"_3wLduG\">\n",
      "    <div class=\"_3PzNI-\">\n",
      "     <span class=\"f3A4_V\">\n",
      "      <label class=\"_2iDkf8\">\n",
      "       <input class=\"_30VH1S\" readonly=\"\" type=\"checkbox\"/>\n",
      "       <div class=\"_24_Dny\">\n",
      "       </div>\n",
      "      </label>\n",
      "     </span>\n",
      "     <label class=\"_6Up2sF\">\n",
      "      <span>\n",
      "       Add to Compare\n",
      "      </span>\n",
      "     </label>\n",
      "    </div>\n",
      "   </div>\n",
      "   <div class=\"_2hVSre _3nq8ih\">\n",
      "    <div class=\"_36FSn5\">\n",
      "     <svg class=\"_1l0elc\" height=\"16\" viewbox=\"0 0 20 16\" width=\"16\" xmlns=\"http://www.w3.org/2000/svg\">\n",
      "      <path class=\"eX72wL\" d=\"M8.695 16.682C4.06 12.382 1 9.536 1 6.065 1 3.219 3.178 1 5.95 1c1.566 0 3.069.746 4.05 1.915C10.981 1.745 12.484 1 14.05 1 16.822 1 19 3.22 19 6.065c0 3.471-3.06 6.316-7.695 10.617L10 17.897l-1.305-1.215z\" fill=\"#2874F0\" fill-rule=\"evenodd\" opacity=\".9\" stroke=\"#FFF\">\n",
      "      </path>\n",
      "     </svg>\n",
      "    </div>\n",
      "   </div>\n",
      "  </div>\n",
      "  <div class=\"_3pLy-c row\">\n",
      "   <div class=\"col col-7-12\">\n",
      "    <div class=\"_4rR01T\">\n",
      "     HP Victus Core i5 12th Gen - (8 GB/512 GB SSD/Windows 11 Home/4 GB Graphics/NVIDIA GeForce GTX 1650/14...\n",
      "    </div>\n",
      "    <div class=\"gUuXy-\">\n",
      "     <span class=\"_1lRcqv\" id=\"productRating_LSTCOMGGKKZHDJBZXJXJSQPVS_COMGGKKZHDJBZXJX_\">\n",
      "      <div class=\"_3LWZlK\">\n",
      "       4.3\n",
      "       <img class=\"_1wB99o\" src=\"data:image/svg+xml;base64,PHN2ZyB4bWxucz0iaHR0cDovL3d3dy53My5vcmcvMjAwMC9zdmciIHdpZHRoPSIxMyIgaGVpZ2h0PSIxMiI+PHBhdGggZmlsbD0iI0ZGRiIgZD0iTTYuNSA5LjQzOWwtMy42NzQgMi4yMy45NC00LjI2LTMuMjEtMi44ODMgNC4yNTQtLjQwNEw2LjUuMTEybDEuNjkgNC4wMSA0LjI1NC40MDQtMy4yMSAyLjg4Mi45NCA0LjI2eiIvPjwvc3ZnPg==\"/>\n",
      "      </div>\n",
      "     </span>\n",
      "     <span class=\"_2_R_DZ\">\n",
      "      <span>\n",
      "       <span>\n",
      "        746 Ratings\n",
      "       </span>\n",
      "       <span class=\"_13vcmD\">\n",
      "        &amp;\n",
      "       </span>\n",
      "       <span>\n",
      "        57 Reviews\n",
      "       </span>\n",
      "      </span>\n",
      "     </span>\n",
      "    </div>\n",
      "    <div class=\"fMghEO\">\n",
      "     <ul class=\"_1xgFaf\">\n",
      "      <li class=\"rgWa7D\">\n",
      "       Intel Core i5 Processor (12th Gen)\n",
      "      </li>\n",
      "      <li class=\"rgWa7D\">\n",
      "       8 GB DDR4 RAM\n",
      "      </li>\n",
      "      <li class=\"rgWa7D\">\n",
      "       64 bit Windows 11 Operating System\n",
      "      </li>\n",
      "      <li class=\"rgWa7D\">\n",
      "       512 GB SSD\n",
      "      </li>\n",
      "      <li class=\"rgWa7D\">\n",
      "       39.62 cm (15.6 Inch) Display\n",
      "      </li>\n",
      "      <li class=\"rgWa7D\">\n",
      "       1 Year Onsite Warranty\n",
      "      </li>\n",
      "     </ul>\n",
      "    </div>\n",
      "   </div>\n",
      "   <div class=\"col col-5-12 nlI3QM\">\n",
      "    <div class=\"_3tbKJL\">\n",
      "     <div class=\"_25b18c\">\n",
      "      <div class=\"_30jeq3 _1_WHN1\">\n",
      "       ₹62,890\n",
      "      </div>\n",
      "      <div class=\"_3I9_wc _27UcVY\">\n",
      "       ₹\n",
      "       <!-- -->\n",
      "       74,829\n",
      "      </div>\n",
      "      <div class=\"_3Ay6Sb\">\n",
      "       <span>\n",
      "        15% off\n",
      "       </span>\n",
      "      </div>\n",
      "     </div>\n",
      "     <div class=\"_3tcB5a p8ucoS\">\n",
      "      <div>\n",
      "       <div class=\"_2Tpdn3\" style=\"color:#000000;font-size:12px;font-weight:400\">\n",
      "        Free delivery\n",
      "       </div>\n",
      "      </div>\n",
      "     </div>\n",
      "    </div>\n",
      "    <div class=\"_13J9qT\">\n",
      "     <img height=\"21\" src=\"//static-assets-web.flixcart.com/fk-p-linchpin-web/fk-cp-zion/img/fa_62673a.png\"/>\n",
      "    </div>\n",
      "    <div class=\"_2ZdXDB\">\n",
      "     <div class=\"_3xFhiH\">\n",
      "      <div class=\"_2Tpdn3 _18hQoS\" style=\"color:#26A541;font-size:12px;font-weight:700\">\n",
      "       Daily Saver\n",
      "      </div>\n",
      "     </div>\n",
      "    </div>\n",
      "    <div class=\"_2ZdXDB\">\n",
      "     <div class=\"_3xFhiH\">\n",
      "      <div class=\"_2Tpdn3 _18hQoS\" style=\"color:#000000;font-size:12px;font-weight:400\">\n",
      "       No Cost EMI from ₹10,482/month\n",
      "      </div>\n",
      "     </div>\n",
      "    </div>\n",
      "   </div>\n",
      "  </div>\n",
      " </a>\n",
      "</div>\n"
     ]
    }
   ],
   "source": [
    "print(BeautifulSoup.prettify(containers[3]))"
   ]
  },
  {
   "cell_type": "markdown",
   "id": "0a72ee86",
   "metadata": {},
   "source": [
    "### Get the Name of the produt:"
   ]
  },
  {
   "cell_type": "code",
   "execution_count": 7,
   "id": "9fdd3f1d",
   "metadata": {},
   "outputs": [
    {
     "name": "stdout",
     "output_type": "stream",
     "text": [
      "MSI Core i5 12th Gen - (16 GB/512 GB SSD/Windows 11 Home/4 GB Graphics/NVIDIA GeForce RTX 3050) Katana...\n"
     ]
    }
   ],
   "source": [
    "container = containers[4]\n",
    "prod_name = container.div.img[\"alt\"]\n",
    "print(prod_name)"
   ]
  },
  {
   "cell_type": "markdown",
   "id": "0541844b",
   "metadata": {},
   "source": [
    "### Get the Original Price of the product:"
   ]
  },
  {
   "cell_type": "code",
   "execution_count": 8,
   "id": "856248cc",
   "metadata": {},
   "outputs": [
    {
     "name": "stdout",
     "output_type": "stream",
     "text": [
      "₹95,990\n"
     ]
    }
   ],
   "source": [
    "original_price = container.findAll(\"div\", {\"class\": \"_3I9_wc _27UcVY\"})\n",
    "print(original_price[0].text)"
   ]
  },
  {
   "cell_type": "markdown",
   "id": "1c70a9ae",
   "metadata": {},
   "source": [
    "### Get the Discount Percentage on the product:"
   ]
  },
  {
   "cell_type": "code",
   "execution_count": 9,
   "id": "9e84d9f2",
   "metadata": {},
   "outputs": [
    {
     "name": "stdout",
     "output_type": "stream",
     "text": [
      "20% off\n"
     ]
    }
   ],
   "source": [
    "discount_percent = container.findAll(\"div\", {\"class\": \"_3Ay6Sb\"})\n",
    "print(discount_percent[0].text)"
   ]
  },
  {
   "cell_type": "markdown",
   "id": "44ec049b",
   "metadata": {},
   "source": [
    "### Get the Discounted Price of the product:"
   ]
  },
  {
   "cell_type": "code",
   "execution_count": 10,
   "id": "76b4fc47",
   "metadata": {},
   "outputs": [
    {
     "name": "stdout",
     "output_type": "stream",
     "text": [
      "₹75,990\n"
     ]
    }
   ],
   "source": [
    "discounted_price = container.findAll(\"div\", {\"class\": \"_30jeq3 _1_WHN1\"})\n",
    "print(discounted_price[0].text)"
   ]
  },
  {
   "cell_type": "markdown",
   "id": "d01d5425",
   "metadata": {},
   "source": [
    "### Getting the Detailes in Summary Form:"
   ]
  },
  {
   "cell_type": "code",
   "execution_count": 14,
   "id": "dbb9b5dc",
   "metadata": {},
   "outputs": [
    {
     "name": "stdout",
     "output_type": "stream",
     "text": [
      "\u001b[1mProduct Name: \n",
      "\u001b[0mAPPLE 2020 Macbook Air M1 - (8 GB/256 GB SSD/Mac OS Big Sur) MGN63HN/A \n",
      "\n",
      "\u001b[1mOriginal Price: \n",
      "\u001b[0m₹99,900 \n",
      "\n",
      "\u001b[1mDiscount Percentage: \n",
      "\u001b[0m19% off \n",
      "\n",
      "\u001b[1mDiscounted Price: \n",
      "\u001b[0m₹79,990 \n",
      "\n",
      "\u001b[1mRatings: \n",
      "\u001b[0m4.7 \n",
      "\n",
      "\u001b[1mNumber of Reviews: \n",
      "\u001b[0m9,985 Ratings & 869 Reviews \n",
      "\n",
      "\u001b[1mProduct Name: \n",
      "\u001b[0mAPPLE 2020 Macbook Air M1 - (8 GB/256 GB SSD/Mac OS Big Sur) MGN93HN/A \n",
      "\n",
      "\u001b[1mOriginal Price: \n",
      "\u001b[0m₹99,900 \n",
      "\n",
      "\u001b[1mDiscount Percentage: \n",
      "\u001b[0m19% off \n",
      "\n",
      "\u001b[1mDiscounted Price: \n",
      "\u001b[0m₹79,990 \n",
      "\n",
      "\u001b[1mRatings: \n",
      "\u001b[0m4.7 \n",
      "\n",
      "\u001b[1mNumber of Reviews: \n",
      "\u001b[0m9,985 Ratings & 869 Reviews \n",
      "\n",
      "\u001b[1mProduct Name: \n",
      "\u001b[0mMSI Sword 15 Core i5 12th Gen - (16 GB/512 GB SSD/Windows 11 Home/4 GB Graphics/NVIDIA GeForce RTX 305... \n",
      "\n",
      "\u001b[1mOriginal Price: \n",
      "\u001b[0m₹98,390 \n",
      "\n",
      "\u001b[1mDiscount Percentage: \n",
      "\u001b[0m18% off \n",
      "\n",
      "\u001b[1mDiscounted Price: \n",
      "\u001b[0m₹79,990 \n",
      "\n",
      "\u001b[1mRatings: \n",
      "\u001b[0m4.7 \n",
      "\n",
      "\u001b[1mNumber of Reviews: \n",
      "\u001b[0m66 Ratings & 17 Reviews \n",
      "\n",
      "\u001b[1mProduct Name: \n",
      "\u001b[0mHP Victus Core i5 12th Gen - (8 GB/512 GB SSD/Windows 11 Home/4 GB Graphics/NVIDIA GeForce GTX 1650/14... \n",
      "\n",
      "\u001b[1mOriginal Price: \n",
      "\u001b[0m₹74,829 \n",
      "\n",
      "\u001b[1mDiscount Percentage: \n",
      "\u001b[0m15% off \n",
      "\n",
      "\u001b[1mDiscounted Price: \n",
      "\u001b[0m₹62,890 \n",
      "\n",
      "\u001b[1mRatings: \n",
      "\u001b[0m4.3 \n",
      "\n",
      "\u001b[1mNumber of Reviews: \n",
      "\u001b[0m746 Ratings & 57 Reviews \n",
      "\n"
     ]
    },
    {
     "ename": "IndexError",
     "evalue": "list index out of range",
     "output_type": "error",
     "traceback": [
      "\u001b[1;31m---------------------------------------------------------------------------\u001b[0m",
      "\u001b[1;31mIndexError\u001b[0m                                Traceback (most recent call last)",
      "\u001b[1;32m~\\AppData\\Local\\Temp\\ipykernel_17688\\800803981.py\u001b[0m in \u001b[0;36m<module>\u001b[1;34m\u001b[0m\n\u001b[0;32m     13\u001b[0m \u001b[1;33m\u001b[0m\u001b[0m\n\u001b[0;32m     14\u001b[0m     \u001b[0mrating_container\u001b[0m \u001b[1;33m=\u001b[0m \u001b[0mcontainer\u001b[0m\u001b[1;33m.\u001b[0m\u001b[0mfindAll\u001b[0m\u001b[1;33m(\u001b[0m\u001b[1;34m\"span\"\u001b[0m\u001b[1;33m,\u001b[0m \u001b[1;33m{\u001b[0m\u001b[1;34m\"class\"\u001b[0m\u001b[1;33m:\u001b[0m \u001b[1;34m\"_1lRcqv\"\u001b[0m\u001b[1;33m}\u001b[0m\u001b[1;33m)\u001b[0m\u001b[1;33m\u001b[0m\u001b[1;33m\u001b[0m\u001b[0m\n\u001b[1;32m---> 15\u001b[1;33m     \u001b[0mprod_rating\u001b[0m \u001b[1;33m=\u001b[0m \u001b[0mrating_container\u001b[0m\u001b[1;33m[\u001b[0m\u001b[1;36m0\u001b[0m\u001b[1;33m]\u001b[0m\u001b[1;33m.\u001b[0m\u001b[0mtext\u001b[0m\u001b[1;33m.\u001b[0m\u001b[0mstrip\u001b[0m\u001b[1;33m(\u001b[0m\u001b[1;33m)\u001b[0m\u001b[1;33m\u001b[0m\u001b[1;33m\u001b[0m\u001b[0m\n\u001b[0m\u001b[0;32m     16\u001b[0m \u001b[1;33m\u001b[0m\u001b[0m\n\u001b[0;32m     17\u001b[0m     \u001b[0mreviews_container\u001b[0m \u001b[1;33m=\u001b[0m \u001b[0mcontainer\u001b[0m\u001b[1;33m.\u001b[0m\u001b[0mfindAll\u001b[0m\u001b[1;33m(\u001b[0m\u001b[1;34m\"span\"\u001b[0m\u001b[1;33m,\u001b[0m \u001b[1;33m{\u001b[0m\u001b[1;34m\"class\"\u001b[0m\u001b[1;33m:\u001b[0m \u001b[1;34m\"_2_R_DZ\"\u001b[0m\u001b[1;33m}\u001b[0m\u001b[1;33m)\u001b[0m\u001b[1;33m\u001b[0m\u001b[1;33m\u001b[0m\u001b[0m\n",
      "\u001b[1;31mIndexError\u001b[0m: list index out of range"
     ]
    }
   ],
   "source": [
    "for container in containers[:5]:\n",
    "    product_name = container.findAll(\"div\", {\"class\": \"_4rR01T\"})    \n",
    "    prod_name = product_name[0].text.strip()\n",
    "    \n",
    "    original_price = container.findAll(\"div\", {\"class\": \"_3I9_wc _27UcVY\"})\n",
    "    original = original_price[0].text.strip()\n",
    "    \n",
    "    discount_percent = container.findAll(\"div\", {\"class\": \"_3Ay6Sb\"})\n",
    "    percent = discount_percent[0].text.strip()\n",
    "    \n",
    "    discounted_price = container.findAll(\"div\", {\"class\": \"_30jeq3 _1_WHN1\"})\n",
    "    discount = discounted_price[0].text.strip()\n",
    "\n",
    "    rating_container = container.findAll(\"span\", {\"class\": \"_1lRcqv\"})\n",
    "    prod_rating = rating_container[0].text.strip()\n",
    "    \n",
    "    reviews_container = container.findAll(\"span\", {\"class\": \"_2_R_DZ\"})\n",
    "    reviews_rating = reviews_container[0].text\n",
    "    \n",
    "    print(\"\\033[1mProduct Name: \\n\"+ '\\033[0m'+ str(prod_name), \"\\n\"),\n",
    "    print(\"\\033[1mOriginal Price: \\n\"+ '\\033[0m'+ str(original), \"\\n\"),\n",
    "    print(\"\\033[1mDiscount Percentage: \\n\"+ '\\033[0m'+ str(percent), \"\\n\"),\n",
    "    print(\"\\033[1mDiscounted Price: \\n\"+ '\\033[0m'+ str(discount), \"\\n\"),\n",
    "    print(\"\\033[1mRatings: \\n\"+ '\\033[0m'+ prod_rating, \"\\n\"),\n",
    "    print(\"\\033[1mNumber of Reviews: \\n\"+ '\\033[0m'+ reviews_rating, \"\\n\"),"
   ]
  },
  {
   "cell_type": "code",
   "execution_count": null,
   "id": "3df84f44",
   "metadata": {},
   "outputs": [],
   "source": []
  }
 ],
 "metadata": {
  "kernelspec": {
   "display_name": "Python 3 (ipykernel)",
   "language": "python",
   "name": "python3"
  },
  "language_info": {
   "codemirror_mode": {
    "name": "ipython",
    "version": 3
   },
   "file_extension": ".py",
   "mimetype": "text/x-python",
   "name": "python",
   "nbconvert_exporter": "python",
   "pygments_lexer": "ipython3",
   "version": "3.9.13"
  }
 },
 "nbformat": 4,
 "nbformat_minor": 5
}
